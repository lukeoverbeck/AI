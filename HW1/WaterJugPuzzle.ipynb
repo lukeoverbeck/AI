{
  "nbformat": 4,
  "nbformat_minor": 0,
  "metadata": {
    "colab": {
      "provenance": [],
      "authorship_tag": "ABX9TyOwt0xjSyHowJp7caysxH28",
      "include_colab_link": true
    },
    "kernelspec": {
      "name": "python3",
      "display_name": "Python 3"
    },
    "language_info": {
      "name": "python"
    }
  },
  "cells": [
    {
      "cell_type": "markdown",
      "metadata": {
        "id": "view-in-github",
        "colab_type": "text"
      },
      "source": [
        "<a href=\"https://colab.research.google.com/github/lukeoverbeck/AI/blob/main/WaterJugPuzzle.ipynb\" target=\"_parent\"><img src=\"https://colab.research.google.com/assets/colab-badge.svg\" alt=\"Open In Colab\"/></a>"
      ]
    },
    {
      "cell_type": "markdown",
      "source": [
        "**The Water Jug Puzzle**\n",
        "\n",
        "There are two water jugs; one 5L jug and one 3L jug. The goal is to get 4L of water in the 5L jug and 3L of water in the 3L jug."
      ],
      "metadata": {
        "id": "yO5YA9wyA4zt"
      }
    },
    {
      "cell_type": "markdown",
      "source": [
        "**Rules**\n",
        "\n",
        "- You can completely fill either jug from the water source.\n",
        "- You can completely empty either jug.\n",
        "- You can pour from one jug to the other until either the pouring jug is empty or the filling jug is full.\n"
      ],
      "metadata": {
        "id": "ZQt9irynmOwA"
      }
    },
    {
      "cell_type": "markdown",
      "source": [
        "**Start State**\n",
        "\n",
        "5L jug: empty\n",
        "\n",
        "3L jug: empty"
      ],
      "metadata": {
        "id": "n_1TXOBqBtNM"
      }
    },
    {
      "cell_type": "markdown",
      "source": [
        "**Goal State**\n",
        "\n",
        "5L: 4L\n",
        "\n",
        "3L jug: 3L"
      ],
      "metadata": {
        "id": "nHxnw60hB8AY"
      }
    },
    {
      "cell_type": "code",
      "source": [
        "class WaterJugPuzzle():\n",
        "\n",
        "  def __init__(self):\n",
        "    self.five_jug = 0\n",
        "    self.three_jug = 0\n",
        "\n",
        "  def save_state(self):\n",
        "    self._five_jug = self.five_jug\n",
        "    self._three_jug = self.three_jug\n",
        "\n",
        "  def undo_state(self):\n",
        "    self.five_jug = self._five_jug\n",
        "    self.three_jug = self._three_jug\n",
        "\n",
        "  def is_five_jug_valid(self):\n",
        "    return 0 <= self.five_jug <= 5\n",
        "\n",
        "  def is_three_jug_valid(self):\n",
        "    return 0 <= self.three_jug <= 3\n",
        "\n",
        "  def state_ok(self):\n",
        "    return (self.is_five_jug_valid() and self.is_three_jug_valid())\n",
        "\n",
        "  # Rule 1: Fill up 5L jug\n",
        "  def R1_fill_five_jug(self):\n",
        "    self.save_state()\n",
        "\n",
        "    self.five_jug = 5\n",
        "\n",
        "  # Rule 2: Fill up 3L jug\n",
        "  def R2_fill_three_jug(self):\n",
        "    self.save_state()\n",
        "\n",
        "    self.three_jug = 3\n",
        "\n",
        "  # Rule 3: Pour water from 5L jug to 3L jug\n",
        "  def R3_fill_three_jug_with_five_jug(self, num_liters):\n",
        "    self.save_state()\n",
        "\n",
        "    transfer = min(self.five_jug, 3 - self.three_jug)\n",
        "    self.five_jug -= transfer\n",
        "    self.three_jug += transfer\n",
        "    if not self.state_ok(): self.undo_state()\n",
        "\n",
        "  # Rule 4: Pour water from 3L jug to 5L jug\n",
        "  def R4_fill_five_jug_with_three_jug(self, num_liters):\n",
        "    self.save_state()\n",
        "\n",
        "    transfer = min(self.three_jug, 5 - self.five_jug)\n",
        "    self.three_jug -= transfer\n",
        "    self.five_jug += transfer\n",
        "    if not self.state_ok(): self.undo_state()\n",
        "\n",
        "  # Rule 5: Empty 5L jug\n",
        "  def R5_empty_five_jug(self):\n",
        "    self.save_state()\n",
        "\n",
        "    self.five_jug = 0\n",
        "\n",
        "  # Rule 6: Empty 3L jug\n",
        "  def R6_empty_three_jug(self):\n",
        "    self.save_state()\n",
        "\n",
        "    self.three_jug = 0\n",
        "\n",
        "  # Two invariants to ensure that the state of the system is consistent\n",
        "  def five_jug_invalid(self):\n",
        "    return not self.is_five_jug_valid()\n",
        "\n",
        "  def three_jug_invalid(self):\n",
        "    return not self.is_three_jug_valid()\n",
        "\n",
        "  # Print state\n",
        "  def print_state(self):\n",
        "    print(f\"5L jug: {self.five_jug}\\n3L jug: {self.three_jug}\")"
      ],
      "metadata": {
        "id": "ULC4jD8sDicm"
      },
      "execution_count": 1,
      "outputs": []
    },
    {
      "cell_type": "code",
      "source": [
        "wjp = WaterJugPuzzle()\n",
        "\n",
        "wjp.print_state()\n",
        "\n",
        "print(\"-------------------\")\n",
        "wjp.R1_fill_five_jug()\n",
        "wjp.print_state()\n",
        "\n",
        "print(\"-------------------\")\n",
        "wjp.R3_fill_three_jug_with_five_jug(3)\n",
        "wjp.print_state()\n",
        "\n",
        "print(\"-------------------\")\n",
        "wjp.R6_empty_three_jug()\n",
        "wjp.print_state()\n",
        "\n",
        "print(\"-------------------\")\n",
        "wjp.R3_fill_three_jug_with_five_jug(2)\n",
        "wjp.print_state()\n",
        "\n",
        "print(\"-------------------\")\n",
        "wjp.R1_fill_five_jug()\n",
        "wjp.print_state()\n",
        "\n",
        "print(\"-------------------\")\n",
        "wjp.R3_fill_three_jug_with_five_jug(1)\n",
        "wjp.print_state()"
      ],
      "metadata": {
        "colab": {
          "base_uri": "https://localhost:8080/"
        },
        "id": "32z6QmYSf2dJ",
        "outputId": "919f13dc-3c92-4a45-a978-18af40b4c495"
      },
      "execution_count": 3,
      "outputs": [
        {
          "output_type": "stream",
          "name": "stdout",
          "text": [
            "5L jug: 0\n",
            "3L jug: 0\n",
            "-------------------\n",
            "5L jug: 5\n",
            "3L jug: 0\n",
            "-------------------\n",
            "5L jug: 2\n",
            "3L jug: 3\n",
            "-------------------\n",
            "5L jug: 2\n",
            "3L jug: 0\n",
            "-------------------\n",
            "5L jug: 0\n",
            "3L jug: 2\n",
            "-------------------\n",
            "5L jug: 5\n",
            "3L jug: 2\n",
            "-------------------\n",
            "5L jug: 4\n",
            "3L jug: 3\n"
          ]
        }
      ]
    }
  ]
}
